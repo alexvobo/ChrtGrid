{
 "cells": [
  {
   "cell_type": "code",
   "execution_count": null,
   "metadata": {},
   "outputs": [],
   "source": [
    "import requests\n",
    "from pprint import pprint\n",
    "from bs4 import BeautifulSoup\n",
    "from pymongo import MongoClient\n",
    "MONGO_HOSTNAME = 'localhost'\n",
    "MONGO_PORT = 27017\n",
    "import json\n"
   ]
  },
  {
   "cell_type": "code",
   "execution_count": 161,
   "metadata": {},
   "outputs": [],
   "source": [
    "def get_coins(url):\n",
    "    \"\"\"Get coin list from URL\n",
    "\n",
    "    Args:\n",
    "        url (string): sandwich.finance URL to fetch\n",
    "\n",
    "    Return:\n",
    "        string: text file contained on page\n",
    "    \"\"\"\n",
    "    res = requests.get(url)\n",
    "    if res.ok:\n",
    "        return [coin for coin in res.content.decode(\"utf-8\").split(\"\\n\")]\n",
    "    \n"
   ]
  },
  {
   "cell_type": "code",
   "execution_count": null,
   "metadata": {},
   "outputs": [],
   "source": []
  },
  {
   "cell_type": "code",
   "execution_count": 144,
   "metadata": {},
   "outputs": [
    {
     "data": {
      "text/plain": [
       "[{'exchange': 'binance',\n",
       "  'market': 'all_markets',\n",
       "  'url': 'https://sandwichfinance.blob.core.windows.net/files/binance_all_markets.txt'},\n",
       " {'exchange': 'binance',\n",
       "  'market': 'btc_markets',\n",
       "  'url': 'https://sandwichfinance.blob.core.windows.net/files/binance_btc_markets.txt'},\n",
       " {'exchange': 'binance',\n",
       "  'market': 'eth_markets',\n",
       "  'url': 'https://sandwichfinance.blob.core.windows.net/files/binance_eth_markets.txt'},\n",
       " {'exchange': 'binance',\n",
       "  'market': 'usdt_markets',\n",
       "  'url': 'https://sandwichfinance.blob.core.windows.net/files/binance_usdt_markets.txt'},\n",
       " {'exchange': 'binance',\n",
       "  'market': 'bnb_markets',\n",
       "  'url': 'https://sandwichfinance.blob.core.windows.net/files/binance_bnb_markets.txt'},\n",
       " {'exchange': 'binance',\n",
       "  'market': 'usdt_perpetual_futures',\n",
       "  'url': 'https://sandwichfinance.blob.core.windows.net/files/binancefuturesf_usdt_perpetual_futures.txt'},\n",
       " {'exchange': 'binance',\n",
       "  'market': 'coin_perpetual_futures',\n",
       "  'url': 'https://sandwichfinance.blob.core.windows.net/files/binancefuturesd_coin_perpetual_futures.txt'},\n",
       " {'exchange': 'ftx',\n",
       "  'market': 'all_markets',\n",
       "  'url': 'https://sandwichfinance.blob.core.windows.net/files/ftx_all_markets.txt'},\n",
       " {'exchange': 'ftx',\n",
       "  'market': 'perpetual_futures',\n",
       "  'url': 'https://sandwichfinance.blob.core.windows.net/files/ftx_perpetual_futures.txt'},\n",
       " {'exchange': 'ftx',\n",
       "  'market': 'spot_markets',\n",
       "  'url': 'https://sandwichfinance.blob.core.windows.net/files/ftx_spot_markets.txt'},\n",
       " {'exchange': 'ftx',\n",
       "  'market': 'quarterly_futures',\n",
       "  'url': 'https://sandwichfinance.blob.core.windows.net/files/ftx_quarterly_futures.txt'},\n",
       " {'exchange': 'ftx',\n",
       "  'market': 'tokenized_stocks',\n",
       "  'url': 'https://sandwichfinance.blob.core.windows.net/files/ftx_tokenized_stocks.txt'},\n",
       " {'exchange': 'ftx',\n",
       "  'market': 'leveraged_tokens',\n",
       "  'url': 'https://sandwichfinance.blob.core.windows.net/files/ftx_leveraged_tokens.txt'},\n",
       " {'exchange': 'ftx',\n",
       "  'market': 'volatility_markets',\n",
       "  'url': 'https://sandwichfinance.blob.core.windows.net/files/ftx_volatility_markets.txt'},\n",
       " {'exchange': 'kucoin',\n",
       "  'market': 'all_markets',\n",
       "  'url': 'https://sandwichfinance.blob.core.windows.net/files/kucoin_all_markets.txt'},\n",
       " {'exchange': 'kucoin',\n",
       "  'market': 'btc_markets',\n",
       "  'url': 'https://sandwichfinance.blob.core.windows.net/files/kucoin_btc_markets.txt'},\n",
       " {'exchange': 'kucoin',\n",
       "  'market': 'eth_markets',\n",
       "  'url': 'https://sandwichfinance.blob.core.windows.net/files/kucoin_eth_markets.txt'},\n",
       " {'exchange': 'kucoin',\n",
       "  'market': 'usdt_markets',\n",
       "  'url': 'https://sandwichfinance.blob.core.windows.net/files/kucoin_usdt_markets.txt'},\n",
       " {'exchange': 'huobi',\n",
       "  'market': 'all_markets',\n",
       "  'url': 'https://sandwichfinance.blob.core.windows.net/files/huobi_all_markets.txt'},\n",
       " {'exchange': 'huobi',\n",
       "  'market': 'btc_markets',\n",
       "  'url': 'https://sandwichfinance.blob.core.windows.net/files/huobi_btc_markets.txt'},\n",
       " {'exchange': 'huobi',\n",
       "  'market': 'eth_markets',\n",
       "  'url': 'https://sandwichfinance.blob.core.windows.net/files/huobi_eth_markets.txt'},\n",
       " {'exchange': 'huobi',\n",
       "  'market': 'usdt_markets',\n",
       "  'url': 'https://sandwichfinance.blob.core.windows.net/files/huobi_usdt_markets.txt'},\n",
       " {'exchange': 'huobi',\n",
       "  'market': 'ht_markets',\n",
       "  'url': 'https://sandwichfinance.blob.core.windows.net/files/huobi_ht_markets.txt'},\n",
       " {'exchange': 'bitfinex',\n",
       "  'market': 'all_markets',\n",
       "  'url': 'https://sandwichfinance.blob.core.windows.net/files/bitfinex_all_markets.txt'},\n",
       " {'exchange': 'bitfinex',\n",
       "  'market': 'btc_markets',\n",
       "  'url': 'https://sandwichfinance.blob.core.windows.net/files/bitfinex_btc_markets.txt'},\n",
       " {'exchange': 'bitfinex',\n",
       "  'market': 'eth_markets',\n",
       "  'url': 'https://sandwichfinance.blob.core.windows.net/files/bitfinex_eth_markets.txt'},\n",
       " {'exchange': 'bitfinex',\n",
       "  'market': 'usd_markets',\n",
       "  'url': 'https://sandwichfinance.blob.core.windows.net/files/bitfinex_usd_markets.txt'},\n",
       " {'exchange': 'bitfinex',\n",
       "  'market': 'derivatives',\n",
       "  'url': 'https://sandwichfinance.blob.core.windows.net/files/bitfinex_derivatives.txt'},\n",
       " {'exchange': 'coinbase',\n",
       "  'market': 'all_markets',\n",
       "  'url': 'https://sandwichfinance.blob.core.windows.net/files/coinbase_all_markets.txt'},\n",
       " {'exchange': 'coinbase',\n",
       "  'market': 'btc_markets',\n",
       "  'url': 'https://sandwichfinance.blob.core.windows.net/files/coinbase_btc_markets.txt'},\n",
       " {'exchange': 'coinbase',\n",
       "  'market': 'usd_markets',\n",
       "  'url': 'https://sandwichfinance.blob.core.windows.net/files/coinbase_usd_markets.txt'},\n",
       " {'exchange': 'coinbase',\n",
       "  'market': 'usdc_markets',\n",
       "  'url': 'https://sandwichfinance.blob.core.windows.net/files/coinbase_usdc_markets.txt'},\n",
       " {'exchange': 'coinbase',\n",
       "  'market': 'eur_markets',\n",
       "  'url': 'https://sandwichfinance.blob.core.windows.net/files/coinbase_eur_markets.txt'},\n",
       " {'exchange': 'coinbase',\n",
       "  'market': 'gbp_markets',\n",
       "  'url': 'https://sandwichfinance.blob.core.windows.net/files/coinbase_gbp_markets.txt'},\n",
       " {'exchange': 'kraken',\n",
       "  'market': 'all_markets',\n",
       "  'url': 'https://sandwichfinance.blob.core.windows.net/files/kraken_all_markets.txt'},\n",
       " {'exchange': 'kraken',\n",
       "  'market': 'xbt_markets',\n",
       "  'url': 'https://sandwichfinance.blob.core.windows.net/files/kraken_xbt_markets.txt'},\n",
       " {'exchange': 'kraken',\n",
       "  'market': 'eth_markets',\n",
       "  'url': 'https://sandwichfinance.blob.core.windows.net/files/kraken_eth_markets.txt'},\n",
       " {'exchange': 'kraken',\n",
       "  'market': 'usd_markets',\n",
       "  'url': 'https://sandwichfinance.blob.core.windows.net/files/kraken_usd_markets.txt'},\n",
       " {'exchange': 'kraken',\n",
       "  'market': 'eur_markets',\n",
       "  'url': 'https://sandwichfinance.blob.core.windows.net/files/kraken_eur_markets.txt'},\n",
       " {'exchange': 'kraken',\n",
       "  'market': 'usdt_markets',\n",
       "  'url': 'https://sandwichfinance.blob.core.windows.net/files/kraken_usdt_markets.txt'},\n",
       " {'exchange': 'poloniex',\n",
       "  'market': 'all_markets',\n",
       "  'url': 'https://sandwichfinance.blob.core.windows.net/files/poloniex_all_markets.txt'},\n",
       " {'exchange': 'poloniex',\n",
       "  'market': 'btc_markets',\n",
       "  'url': 'https://sandwichfinance.blob.core.windows.net/files/poloniex_btc_markets.txt'},\n",
       " {'exchange': 'poloniex',\n",
       "  'market': 'eth_markets',\n",
       "  'url': 'https://sandwichfinance.blob.core.windows.net/files/poloniex_eth_markets.txt'},\n",
       " {'exchange': 'poloniex',\n",
       "  'market': 'usdt_markets',\n",
       "  'url': 'https://sandwichfinance.blob.core.windows.net/files/poloniex_usdt_markets.txt'}]"
      ]
     },
     "execution_count": 144,
     "metadata": {},
     "output_type": "execute_result"
    }
   ],
   "source": [
    "urls_to_add = []\n",
    "def get_sandwich_data():\n",
    "    \"\"\"Scrape sandwich.finance to get the market URLs for all exchanges\n",
    "\n",
    "    Returns:\n",
    "        list: List of objects containing the exchange, market name, and url\n",
    "    \"\"\"\n",
    "    base_url = \"https://www.sandwich.finance/\"\n",
    "    res = requests.get(base_url)\n",
    "    soup = BeautifulSoup(res.content, 'html.parser')\n",
    "\n",
    "    table = soup.select_one(\n",
    "        \"#__next > div > main > section.section.lists > div > div > div > div\")\n",
    "\n",
    "\n",
    "    sandwich_data = []\n",
    "    markets_table = table.select(\"ul\")\n",
    "    exchange_list = [e.text.lower() for e in table.select(\"h2\")]\n",
    "    if len(markets_table) == len(exchange_list):\n",
    "        for markets, exch in zip(markets_table, exchange_list):\n",
    "            for market in markets.select(\"li\"):\n",
    "                a_tag = market.find('a')\n",
    "                link = a_tag['href']\n",
    "                market_name = a_tag['title'].split(\n",
    "                    \"-\")[1].strip().replace(\" \", \"_\").lower()\n",
    "                sandwich_data.append(\n",
    "                    {'exchange': exch, 'market': market_name, 'url': link})\n",
    "\n",
    "    return sandwich_data\n",
    "\n",
    "sandwich_data = get_sandwich_data()\n",
    "\n",
    "sandwich_data\n"
   ]
  },
  {
   "cell_type": "code",
   "execution_count": 165,
   "metadata": {},
   "outputs": [
    {
     "data": {
      "text/plain": [
       "'https://sandwichfinance.blob.core.windows.net/files/coinbase_usd_markets.txt'"
      ]
     },
     "execution_count": 165,
     "metadata": {},
     "output_type": "execute_result"
    }
   ],
   "source": [
    "exchange='coinbase' \n",
    "market='usd_markets'\n",
    "x = None\n",
    "with MongoClient(MONGO_HOSTNAME, MONGO_PORT) as client:\n",
    "    url_db = client.sandwich['urls']\n",
    "    x = url_db.find_one({'exchange': exchange, 'market': market})['url']\n",
    "    coins_db = client.sandwich[exchange]\n",
    "    coins_db.insert_one({'market': market, 'coins': get_coins(x)})\n",
    "x\n"
   ]
  },
  {
   "cell_type": "code",
   "execution_count": 179,
   "metadata": {},
   "outputs": [
    {
     "name": "stdout",
     "output_type": "stream",
     "text": [
      "[{'_id': ObjectId('61f628451aed01447f8b5aa0'), 'exchange': 'binance', 'market': 'all_markets', 'url': 'https://sandwichfinance.blob.core.windows.net/files/binance_all_markets.txt'}, {'_id': ObjectId('61f628451aed01447f8b5aa1'), 'exchange': 'binance', 'market': 'btc_markets', 'url': 'https://sandwichfinance.blob.core.windows.net/files/binance_btc_markets.txt'}, {'_id': ObjectId('61f628451aed01447f8b5aa2'), 'exchange': 'binance', 'market': 'eth_markets', 'url': 'https://sandwichfinance.blob.core.windows.net/files/binance_eth_markets.txt'}, {'_id': ObjectId('61f628451aed01447f8b5aa3'), 'exchange': 'binance', 'market': 'usdt_markets', 'url': 'https://sandwichfinance.blob.core.windows.net/files/binance_usdt_markets.txt'}, {'_id': ObjectId('61f628451aed01447f8b5aa4'), 'exchange': 'binance', 'market': 'bnb_markets', 'url': 'https://sandwichfinance.blob.core.windows.net/files/binance_bnb_markets.txt'}, {'_id': ObjectId('61f628451aed01447f8b5aa5'), 'exchange': 'binance', 'market': 'usdt_perpetual_futures', 'url': 'https://sandwichfinance.blob.core.windows.net/files/binancefuturesf_usdt_perpetual_futures.txt'}, {'_id': ObjectId('61f628451aed01447f8b5aa6'), 'exchange': 'binance', 'market': 'coin_perpetual_futures', 'url': 'https://sandwichfinance.blob.core.windows.net/files/binancefuturesd_coin_perpetual_futures.txt'}, {'_id': ObjectId('61f628451aed01447f8b5aa7'), 'exchange': 'ftx', 'market': 'all_markets', 'url': 'https://sandwichfinance.blob.core.windows.net/files/ftx_all_markets.txt'}, {'_id': ObjectId('61f628451aed01447f8b5aa8'), 'exchange': 'ftx', 'market': 'perpetual_futures', 'url': 'https://sandwichfinance.blob.core.windows.net/files/ftx_perpetual_futures.txt'}, {'_id': ObjectId('61f628451aed01447f8b5aa9'), 'exchange': 'ftx', 'market': 'spot_markets', 'url': 'https://sandwichfinance.blob.core.windows.net/files/ftx_spot_markets.txt'}, {'_id': ObjectId('61f628451aed01447f8b5aaa'), 'exchange': 'ftx', 'market': 'quarterly_futures', 'url': 'https://sandwichfinance.blob.core.windows.net/files/ftx_quarterly_futures.txt'}, {'_id': ObjectId('61f628451aed01447f8b5aab'), 'exchange': 'ftx', 'market': 'tokenized_stocks', 'url': 'https://sandwichfinance.blob.core.windows.net/files/ftx_tokenized_stocks.txt'}, {'_id': ObjectId('61f628451aed01447f8b5aac'), 'exchange': 'ftx', 'market': 'leveraged_tokens', 'url': 'https://sandwichfinance.blob.core.windows.net/files/ftx_leveraged_tokens.txt'}, {'_id': ObjectId('61f628451aed01447f8b5aad'), 'exchange': 'ftx', 'market': 'volatility_markets', 'url': 'https://sandwichfinance.blob.core.windows.net/files/ftx_volatility_markets.txt'}, {'_id': ObjectId('61f628451aed01447f8b5aae'), 'exchange': 'kucoin', 'market': 'all_markets', 'url': 'https://sandwichfinance.blob.core.windows.net/files/kucoin_all_markets.txt'}, {'_id': ObjectId('61f628451aed01447f8b5aaf'), 'exchange': 'kucoin', 'market': 'btc_markets', 'url': 'https://sandwichfinance.blob.core.windows.net/files/kucoin_btc_markets.txt'}, {'_id': ObjectId('61f628451aed01447f8b5ab0'), 'exchange': 'kucoin', 'market': 'eth_markets', 'url': 'https://sandwichfinance.blob.core.windows.net/files/kucoin_eth_markets.txt'}, {'_id': ObjectId('61f628451aed01447f8b5ab1'), 'exchange': 'kucoin', 'market': 'usdt_markets', 'url': 'https://sandwichfinance.blob.core.windows.net/files/kucoin_usdt_markets.txt'}, {'_id': ObjectId('61f628451aed01447f8b5ab2'), 'exchange': 'huobi', 'market': 'all_markets', 'url': 'https://sandwichfinance.blob.core.windows.net/files/huobi_all_markets.txt'}, {'_id': ObjectId('61f628451aed01447f8b5ab3'), 'exchange': 'huobi', 'market': 'btc_markets', 'url': 'https://sandwichfinance.blob.core.windows.net/files/huobi_btc_markets.txt'}, {'_id': ObjectId('61f628451aed01447f8b5ab4'), 'exchange': 'huobi', 'market': 'eth_markets', 'url': 'https://sandwichfinance.blob.core.windows.net/files/huobi_eth_markets.txt'}, {'_id': ObjectId('61f628451aed01447f8b5ab5'), 'exchange': 'huobi', 'market': 'usdt_markets', 'url': 'https://sandwichfinance.blob.core.windows.net/files/huobi_usdt_markets.txt'}, {'_id': ObjectId('61f628451aed01447f8b5ab6'), 'exchange': 'huobi', 'market': 'ht_markets', 'url': 'https://sandwichfinance.blob.core.windows.net/files/huobi_ht_markets.txt'}, {'_id': ObjectId('61f628451aed01447f8b5ab7'), 'exchange': 'bitfinex', 'market': 'all_markets', 'url': 'https://sandwichfinance.blob.core.windows.net/files/bitfinex_all_markets.txt'}, {'_id': ObjectId('61f628451aed01447f8b5ab8'), 'exchange': 'bitfinex', 'market': 'btc_markets', 'url': 'https://sandwichfinance.blob.core.windows.net/files/bitfinex_btc_markets.txt'}, {'_id': ObjectId('61f628451aed01447f8b5ab9'), 'exchange': 'bitfinex', 'market': 'eth_markets', 'url': 'https://sandwichfinance.blob.core.windows.net/files/bitfinex_eth_markets.txt'}, {'_id': ObjectId('61f628451aed01447f8b5aba'), 'exchange': 'bitfinex', 'market': 'usd_markets', 'url': 'https://sandwichfinance.blob.core.windows.net/files/bitfinex_usd_markets.txt'}, {'_id': ObjectId('61f628451aed01447f8b5abb'), 'exchange': 'bitfinex', 'market': 'derivatives', 'url': 'https://sandwichfinance.blob.core.windows.net/files/bitfinex_derivatives.txt'}, {'_id': ObjectId('61f628451aed01447f8b5abc'), 'exchange': 'coinbase', 'market': 'all_markets', 'url': 'https://sandwichfinance.blob.core.windows.net/files/coinbase_all_markets.txt'}, {'_id': ObjectId('61f628451aed01447f8b5abd'), 'exchange': 'coinbase', 'market': 'btc_markets', 'url': 'https://sandwichfinance.blob.core.windows.net/files/coinbase_btc_markets.txt'}, {'_id': ObjectId('61f628451aed01447f8b5abe'), 'exchange': 'coinbase', 'market': 'usd_markets', 'url': 'https://sandwichfinance.blob.core.windows.net/files/coinbase_usd_markets.txt'}, {'_id': ObjectId('61f628451aed01447f8b5abf'), 'exchange': 'coinbase', 'market': 'usdc_markets', 'url': 'https://sandwichfinance.blob.core.windows.net/files/coinbase_usdc_markets.txt'}, {'_id': ObjectId('61f628451aed01447f8b5ac0'), 'exchange': 'coinbase', 'market': 'eur_markets', 'url': 'https://sandwichfinance.blob.core.windows.net/files/coinbase_eur_markets.txt'}, {'_id': ObjectId('61f628451aed01447f8b5ac1'), 'exchange': 'coinbase', 'market': 'gbp_markets', 'url': 'https://sandwichfinance.blob.core.windows.net/files/coinbase_gbp_markets.txt'}, {'_id': ObjectId('61f628451aed01447f8b5ac2'), 'exchange': 'kraken', 'market': 'all_markets', 'url': 'https://sandwichfinance.blob.core.windows.net/files/kraken_all_markets.txt'}, {'_id': ObjectId('61f628451aed01447f8b5ac3'), 'exchange': 'kraken', 'market': 'xbt_markets', 'url': 'https://sandwichfinance.blob.core.windows.net/files/kraken_xbt_markets.txt'}, {'_id': ObjectId('61f628451aed01447f8b5ac4'), 'exchange': 'kraken', 'market': 'eth_markets', 'url': 'https://sandwichfinance.blob.core.windows.net/files/kraken_eth_markets.txt'}, {'_id': ObjectId('61f628451aed01447f8b5ac5'), 'exchange': 'kraken', 'market': 'usd_markets', 'url': 'https://sandwichfinance.blob.core.windows.net/files/kraken_usd_markets.txt'}, {'_id': ObjectId('61f628451aed01447f8b5ac6'), 'exchange': 'kraken', 'market': 'eur_markets', 'url': 'https://sandwichfinance.blob.core.windows.net/files/kraken_eur_markets.txt'}, {'_id': ObjectId('61f628451aed01447f8b5ac7'), 'exchange': 'kraken', 'market': 'usdt_markets', 'url': 'https://sandwichfinance.blob.core.windows.net/files/kraken_usdt_markets.txt'}, {'_id': ObjectId('61f628451aed01447f8b5ac8'), 'exchange': 'poloniex', 'market': 'all_markets', 'url': 'https://sandwichfinance.blob.core.windows.net/files/poloniex_all_markets.txt'}, {'_id': ObjectId('61f628451aed01447f8b5ac9'), 'exchange': 'poloniex', 'market': 'btc_markets', 'url': 'https://sandwichfinance.blob.core.windows.net/files/poloniex_btc_markets.txt'}, {'_id': ObjectId('61f628451aed01447f8b5aca'), 'exchange': 'poloniex', 'market': 'eth_markets', 'url': 'https://sandwichfinance.blob.core.windows.net/files/poloniex_eth_markets.txt'}, {'_id': ObjectId('61f628451aed01447f8b5acb'), 'exchange': 'poloniex', 'market': 'usdt_markets', 'url': 'https://sandwichfinance.blob.core.windows.net/files/poloniex_usdt_markets.txt'}]\n"
     ]
    }
   ],
   "source": [
    "with MongoClient(MONGO_HOSTNAME, MONGO_PORT) as client:\n",
    "    url_db = client.sandwich['urls']\n",
    "    old_urls = list(url_db.find({}))\n",
    "    print(old_urls)"
   ]
  },
  {
   "cell_type": "code",
   "execution_count": 164,
   "metadata": {},
   "outputs": [],
   "source": [
    "with MongoClient(MONGO_HOSTNAME, MONGO_PORT) as client:\n",
    "    coins_db = client.sandwich[exchange]\n",
    "    coins_db.delete_one({\"market\": market})\n"
   ]
  },
  {
   "cell_type": "code",
   "execution_count": 168,
   "metadata": {},
   "outputs": [
    {
     "name": "stdout",
     "output_type": "stream",
     "text": [
      "150\n",
      "149\n",
      "here\n"
     ]
    }
   ],
   "source": [
    "with MongoClient(MONGO_HOSTNAME, MONGO_PORT) as client:\n",
    "    url_db = client.sandwich['urls']\n",
    "    coins_db = client.sandwich[exchange]\n",
    "\n",
    "    url = url_db.find_one({'exchange': exchange, 'market': market})['url']\n",
    "\n",
    "    old_coins = coins_db.find_one({'market': market})['coins']\n",
    "    new_coins = get_coins(url)\n",
    "    \n",
    "    print(len(old_coins))\n",
    "    print(len(new_coins))\n",
    "    \n",
    "    if len(new_coins) != len(old_coins):\n",
    "        print(\"here\")\n",
    "        # Only perform if coins have been added/removed\n",
    "        coins_db.delete_one({\"market\": market})\n",
    "        coins_db.insert_one({'market': market, 'coins': new_coins})"
   ]
  },
  {
   "cell_type": "code",
   "execution_count": 173,
   "metadata": {},
   "outputs": [
    {
     "data": {
      "text/plain": [
       "['all_markets',\n",
       " 'btc_markets',\n",
       " 'usd_markets',\n",
       " 'usdc_markets',\n",
       " 'eur_markets',\n",
       " 'gbp_markets']"
      ]
     },
     "execution_count": 173,
     "metadata": {},
     "output_type": "execute_result"
    }
   ],
   "source": [
    "def fetch_exchanges():\n",
    "    with MongoClient(MONGO_HOSTNAME, MONGO_PORT) as client:\n",
    "        url_db = client.sandwich['urls']\n",
    "        return [e for e in url_db.find().distinct('exchange')]\n",
    "def fetch_markets(exchange):\n",
    "    if exchange:\n",
    "        with MongoClient(MONGO_HOSTNAME, MONGO_PORT) as client:\n",
    "            url_db = client.sandwich['urls']\n",
    "            return [m['market'] for m in url_db.find({'exchange': exchange})]\n",
    "        \n",
    "def fetch_url(exchange, market):\n",
    "    if exchange and market:\n",
    "        with MongoClient(MONGO_HOSTNAME, MONGO_PORT) as client:\n",
    "            url_db = client.sandwich['urls']\n",
    "            return url_db.find_one({'exchange': exchange, 'market': market})['url']\n",
    "# fetch_url('coinbase','usd_markets')\n",
    "fetch_markets('coinbase')"
   ]
  },
  {
   "cell_type": "code",
   "execution_count": 150,
   "metadata": {},
   "outputs": [
    {
     "name": "stdout",
     "output_type": "stream",
     "text": [
      "['https://sandwichfinance.blob.core.windows.net/files/binance_all_markets.txt', 'https://sandwichfinance.blob.core.windows.net/files/binance_bnb_markets.txt', 'https://sandwichfinance.blob.core.windows.net/files/binance_btc_markets.txt', 'https://sandwichfinance.blob.core.windows.net/files/binance_eth_markets.txt', 'https://sandwichfinance.blob.core.windows.net/files/binance_usdt_markets.txt', 'https://sandwichfinance.blob.core.windows.net/files/binancefuturesd_coin_perpetual_futures.txt', 'https://sandwichfinance.blob.core.windows.net/files/binancefuturesf_usdt_perpetual_futures.txt', 'https://sandwichfinance.blob.core.windows.net/files/bitfinex_all_markets.txt', 'https://sandwichfinance.blob.core.windows.net/files/bitfinex_btc_markets.txt', 'https://sandwichfinance.blob.core.windows.net/files/bitfinex_derivatives.txt', 'https://sandwichfinance.blob.core.windows.net/files/bitfinex_eth_markets.txt', 'https://sandwichfinance.blob.core.windows.net/files/bitfinex_usd_markets.txt', 'https://sandwichfinance.blob.core.windows.net/files/coinbase_all_markets.txt', 'https://sandwichfinance.blob.core.windows.net/files/coinbase_btc_markets.txt', 'https://sandwichfinance.blob.core.windows.net/files/coinbase_eur_markets.txt', 'https://sandwichfinance.blob.core.windows.net/files/coinbase_gbp_markets.txt', 'https://sandwichfinance.blob.core.windows.net/files/coinbase_usd_markets.txt', 'https://sandwichfinance.blob.core.windows.net/files/coinbase_usdc_markets.txt', 'https://sandwichfinance.blob.core.windows.net/files/ftx_all_markets.txt', 'https://sandwichfinance.blob.core.windows.net/files/ftx_leveraged_tokens.txt', 'https://sandwichfinance.blob.core.windows.net/files/ftx_perpetual_futures.txt', 'https://sandwichfinance.blob.core.windows.net/files/ftx_quarterly_futures.txt', 'https://sandwichfinance.blob.core.windows.net/files/ftx_spot_markets.txt', 'https://sandwichfinance.blob.core.windows.net/files/ftx_tokenized_stocks.txt', 'https://sandwichfinance.blob.core.windows.net/files/ftx_volatility_markets.txt', 'https://sandwichfinance.blob.core.windows.net/files/huobi_all_markets.txt', 'https://sandwichfinance.blob.core.windows.net/files/huobi_btc_markets.txt', 'https://sandwichfinance.blob.core.windows.net/files/huobi_eth_markets.txt', 'https://sandwichfinance.blob.core.windows.net/files/huobi_ht_markets.txt', 'https://sandwichfinance.blob.core.windows.net/files/huobi_usdt_markets.txt', 'https://sandwichfinance.blob.core.windows.net/files/kraken_all_markets.txt', 'https://sandwichfinance.blob.core.windows.net/files/kraken_eth_markets.txt', 'https://sandwichfinance.blob.core.windows.net/files/kraken_eur_markets.txt', 'https://sandwichfinance.blob.core.windows.net/files/kraken_usd_markets.txt', 'https://sandwichfinance.blob.core.windows.net/files/kraken_usdt_markets.txt', 'https://sandwichfinance.blob.core.windows.net/files/kraken_xbt_markets.txt', 'https://sandwichfinance.blob.core.windows.net/files/kucoin_all_markets.txt', 'https://sandwichfinance.blob.core.windows.net/files/kucoin_btc_markets.txt', 'https://sandwichfinance.blob.core.windows.net/files/kucoin_eth_markets.txt', 'https://sandwichfinance.blob.core.windows.net/files/kucoin_usdt_markets.txt', 'https://sandwichfinance.blob.core.windows.net/files/poloniex_all_markets.txt', 'https://sandwichfinance.blob.core.windows.net/files/poloniex_btc_markets.txt', 'https://sandwichfinance.blob.core.windows.net/files/poloniex_eth_markets.txt', 'https://sandwichfinance.blob.core.windows.net/files/poloniex_usdt_markets.txt']\n"
     ]
    }
   ],
   "source": [
    "with MongoClient(MONGO_HOSTNAME, MONGO_PORT) as client:\n",
    "        url_db = client.sandwich['urls']\n",
    "        urls = [e for e in url_db.find().distinct('url')]\n",
    "        print(urls)"
   ]
  },
  {
   "cell_type": "code",
   "execution_count": null,
   "metadata": {},
   "outputs": [],
   "source": []
  },
  {
   "cell_type": "code",
   "execution_count": 145,
   "metadata": {},
   "outputs": [],
   "source": [
    "def update_urls():\n",
    "    # Run this on timer\n",
    "    # If I have to update\n",
    "    with MongoClient(MONGO_HOSTNAME, MONGO_PORT) as client:\n",
    "        db = client.sandwich\n",
    "        db['urls'].insert_many(sandwich_data)\n",
    "        \n",
    "update_urls()"
   ]
  },
  {
   "cell_type": "code",
   "execution_count": null,
   "metadata": {},
   "outputs": [],
   "source": [
    "urls = []\n",
    "with MongoClient(MONGO_HOSTNAME, MONGO_PORT) as client:\n",
    "        url_db = client.sandwich['urls']\n",
    "        urls = [e for e in url_db.find().distinct('url')]\n",
    "        \n",
    "        for u in urls:\n",
    "            print(url_db.find_one({'url':u})['exchange'])\n"
   ]
  },
  {
   "cell_type": "code",
   "execution_count": null,
   "metadata": {},
   "outputs": [],
   "source": [
    "exchange = 'coinbase'\n",
    "with MongoClient(MONGO_HOSTNAME, MONGO_PORT) as client:\n",
    "        url_db = client.sandwich['urls']\n",
    "        markets = [m['url'] for m in url_db.find(\n",
    "            {'exchange': exchange, 'market': 'usd_markets'})]\n",
    "        print(markets)\n",
    "        "
   ]
  }
 ],
 "metadata": {
  "interpreter": {
   "hash": "63fd5069d213b44bf678585dea6b12cceca9941eaf7f819626cde1f2670de90d"
  },
  "kernelspec": {
   "display_name": "Python 3.9.2 64-bit",
   "language": "python",
   "name": "python3"
  },
  "language_info": {
   "codemirror_mode": {
    "name": "ipython",
    "version": 3
   },
   "file_extension": ".py",
   "mimetype": "text/x-python",
   "name": "python",
   "nbconvert_exporter": "python",
   "pygments_lexer": "ipython3",
   "version": "3.8.5"
  },
  "orig_nbformat": 4
 },
 "nbformat": 4,
 "nbformat_minor": 2
}
